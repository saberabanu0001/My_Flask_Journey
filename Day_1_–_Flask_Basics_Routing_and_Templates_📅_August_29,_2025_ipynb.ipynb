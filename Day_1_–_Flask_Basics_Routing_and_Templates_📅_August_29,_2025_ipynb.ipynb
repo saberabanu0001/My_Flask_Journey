{
  "nbformat": 4,
  "nbformat_minor": 0,
  "metadata": {
    "colab": {
      "provenance": []
    },
    "kernelspec": {
      "name": "python3",
      "display_name": "Python 3"
    },
    "language_info": {
      "name": "python"
    }
  },
  "cells": [
    {
      "cell_type": "markdown",
      "source": [
        "# 🧠 Introduction\n",
        "\n",
        "Today I explored how Flask uses **Jinja2 templates** to render HTML dynamically.  \n",
        "I learned how to pass variables from Python into HTML, use loops and conditionals, apply filters, and structure pages using template inheritance.\n",
        "\n",
        "This notebook documents my learning with examples and reflections.\n",
        "\n",
        "---\n"
      ],
      "metadata": {
        "id": "Dy8RnF7PUVP6"
      }
    },
    {
      "cell_type": "markdown",
      "source": [
        "## 🔁 Rendering Lists with Jinja2\n",
        "\n",
        "We can pass any Python variable—lists, dictionaries, strings—into our HTML templates using `render_template()`.\n",
        "\n",
        "### Example: Displaying a List\n",
        "```html\n",
        "<ul>\n",
        "    {% for item in list %}\n",
        "        <li>{{ item }}</li>\n",
        "    {% endfor %}\n",
        "</ul>\n"
      ],
      "metadata": {
        "id": "vwHsBU6AUdEg"
      }
    },
    {
      "cell_type": "markdown",
      "source": [
        "---\n",
        "###This will render each item in the list as a bullet point."
      ],
      "metadata": {
        "id": "JJLmxNNJVrN8"
      }
    },
    {
      "cell_type": "markdown",
      "source": [
        "\n",
        "```markdown\n",
        "🎨 Conditional Styling with Jinja2\n",
        "\n",
        "We can use `if` statements inside loops to style specific items.\n",
        "\n",
        "Example: Highlighting the number 40\n",
        "```html\n",
        "<ul>\n",
        "    {% for item in list %}\n",
        "        {% if item == 40 %}\n",
        "            <li style=\"color: red\">{{ item }}</li>\n",
        "        {% endif %}\n",
        "        <li>{{ item }}</li>\n",
        "    {% endfor %}\n",
        "</ul>\n"
      ],
      "metadata": {
        "id": "XLBeGlmJUfeq"
      }
    },
    {
      "cell_type": "markdown",
      "source": [
        "---\n",
        "### This highlights the number 40 in red while still displaying all items."
      ],
      "metadata": {
        "id": "cwnlCutUWP7N"
      }
    },
    {
      "cell_type": "markdown",
      "source": [
        "\n",
        "```markdown\n",
        "## 🏗️ Template Inheritance\n",
        "\n",
        "To avoid repeating HTML structure across pages, Flask supports **template inheritance** using `base.html`.\n",
        "\n",
        "### Step 1: Create `base.html`\n",
        "```html\n",
        "<!DOCTYPE html>\n",
        "<html>\n",
        "<head>\n",
        "    <title>{% block title %}Default Value{% endblock %}</title>\n",
        "</head>\n",
        "<body>\n",
        "    {% block content %}{% endblock %}\n",
        "</body>\n",
        "</html>\n"
      ],
      "metadata": {
        "id": "MZRDGXr3Ui8S"
      }
    },
    {
      "cell_type": "markdown",
      "source": [
        "---\n",
        "###Step 2: Extend in index.html"
      ],
      "metadata": {
        "id": "lugLVSkqWaoG"
      }
    },
    {
      "cell_type": "markdown",
      "source": [
        "{% extends \"base.html\" %}\n",
        "\n",
        "{% block title %}Index Page{% endblock %}\n",
        "\n",
        "{% block content %}\n",
        "    <ul>\n",
        "        {% for item in list %}\n",
        "            {% if item == 40 %}\n",
        "                <li style=\"color: red\">{{ item }}</li>\n",
        "            {% endif %}\n",
        "            <li>{{ item }}</li>\n",
        "        {% endfor %}\n",
        "    </ul>\n",
        "{% endblock %}\n",
        "---"
      ],
      "metadata": {
        "id": "PGxjl_qdU_Vh"
      }
    },
    {
      "cell_type": "markdown",
      "source": [
        "---\n",
        "###This allows us to reuse the layout and only change the content. 📌 Note: We don’t need to include base.html in every file—just extend it."
      ],
      "metadata": {
        "id": "kpSV6jW_WndQ"
      }
    },
    {
      "cell_type": "markdown",
      "source": [
        "\n",
        "```markdown\n",
        " 🧹 Filters in Jinja2\n",
        "\n",
        "Jinja2 uses **filters** to transform data directly in templates.\n",
        "\n",
        " Example: Uppercase Text\n",
        "```html\n",
        "<p>{{ text|upper }}</p>\n"
      ],
      "metadata": {
        "id": "UqpVggCKWvH4"
      }
    },
    {
      "cell_type": "markdown",
      "source": [
        "---\n",
        "###Instead of using .upper() in Python, we use the pipe symbol (|) in Jinja2."
      ],
      "metadata": {
        "id": "qxH9xbBcXBjm"
      }
    },
    {
      "cell_type": "markdown",
      "source": [
        "\n",
        "```markdown\n",
        "🔗 Linking Pages with `url_for`\n",
        "\n",
        "We can link to other Flask routes using `url_for()`.\n",
        "\n",
        " Flask Route\n",
        "```python\n",
        "@app.route('/abc')\n",
        "def day2():\n",
        "    text = \"Hello this is Sabera Banu!\"\n",
        "    return render_template('day3filters.html', text=text)\n"
      ],
      "metadata": {
        "id": "iEOmPdR1XFa_"
      }
    },
    {
      "cell_type": "markdown",
      "source": [
        "---\n",
        "###HTML Link"
      ],
      "metadata": {
        "id": "4ejPnbBNXLnH"
      }
    },
    {
      "cell_type": "markdown",
      "source": [
        "<a href=\"{{ url_for('day2') }}\">Other</a>"
      ],
      "metadata": {
        "id": "dyXX4_c9XN2T"
      }
    },
    {
      "cell_type": "markdown",
      "source": [
        "---\n",
        "###This keeps URLs dynamic and avoids hardcoding paths."
      ],
      "metadata": {
        "id": "-4KEGQDxXReX"
      }
    },
    {
      "cell_type": "markdown",
      "source": [
        "\n",
        "```markdown\n",
        " 🧠 Reflection\n",
        "\n",
        "Today’s session helped me understand how Flask and Jinja2 work together to create dynamic, reusable, and clean web pages.  \n",
        "I especially loved how simple it is to style content conditionally and reuse layouts with inheritance.\n",
        "\n",
        "---"
      ],
      "metadata": {
        "id": "reJJrCliXVBa"
      }
    },
    {
      "cell_type": "markdown",
      "source": [
        "---\n",
        "📚 Resources Used\n",
        "\n",
        "- [Flask Templates – Official Docs](https://flask.palletsprojects.com/en/2.3.x/templating/)\n",
        "- Corey Schafer’s Flask Series (YouTube)\n",
        "- My own experimentation with `base.html` and filters\n",
        "\n",
        "---\n"
      ],
      "metadata": {
        "id": "DCYkH3IVXdFG"
      }
    },
    {
      "cell_type": "markdown",
      "source": [
        " ✅ What’s Next\n",
        "\n",
        "Tomorrow I’ll dive into:\n",
        "- Form handling with POST requests\n",
        "- File uploads and validation\n",
        "- Building a mini app with user input\n",
        "\n",
        "Stay tuned for **Day 3**!\n",
        "\n",
        "---\n"
      ],
      "metadata": {
        "id": "qzWbdP9JXgRA"
      }
    },
    {
      "cell_type": "code",
      "source": [],
      "metadata": {
        "id": "za_aPqubUb9c"
      },
      "execution_count": null,
      "outputs": []
    }
  ]
}