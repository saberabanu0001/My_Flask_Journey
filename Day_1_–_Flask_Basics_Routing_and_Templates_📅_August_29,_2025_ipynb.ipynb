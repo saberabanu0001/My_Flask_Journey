{
  "nbformat": 4,
  "nbformat_minor": 0,
  "metadata": {
    "colab": {
      "provenance": []
    },
    "kernelspec": {
      "name": "python3",
      "display_name": "Python 3"
    },
    "language_info": {
      "name": "python"
    }
  },
  "cells": [
    {
      "cell_type": "markdown",
      "source": [
        "# 🧠 Introduction\n",
        "\n",
        "Today I explored how Flask uses **Jinja2 templates** to render HTML dynamically.  \n",
        "I learned how to pass variables from Python into HTML, use loops and conditionals, apply filters, and structure pages using template inheritance.\n",
        "\n",
        "This notebook documents my learning with examples and reflections.\n",
        "\n",
        "---\n"
      ],
      "metadata": {
        "id": "Dy8RnF7PUVP6"
      }
    },
    {
      "cell_type": "markdown",
      "source": [
        "## 🔁 Rendering Lists with Jinja2\n",
        "\n",
        "We can pass any Python variable—lists, dictionaries, strings—into our HTML templates using `render_template()`.\n",
        "\n",
        "### Example: Displaying a List\n",
        "```html\n",
        "<ul>\n",
        "    {% for item in list %}\n",
        "        <li>{{ item }}</li>\n",
        "    {% endfor %}\n",
        "</ul>\n"
      ],
      "metadata": {
        "id": "vwHsBU6AUdEg"
      }
    },
    {
      "cell_type": "markdown",
      "source": [
        "\n",
        "```markdown\n",
        "## 🎨 Conditional Styling with Jinja2\n",
        "\n",
        "We can use `if` statements inside loops to style specific items.\n",
        "\n",
        "### Example: Highlighting the number 40\n",
        "```html\n",
        "<ul>\n",
        "    {% for item in list %}\n",
        "        {% if item == 40 %}\n",
        "            <li style=\"color: red\">{{ item }}</li>\n",
        "        {% endif %}\n",
        "        <li>{{ item }}</li>\n",
        "    {% endfor %}\n",
        "</ul>\n"
      ],
      "metadata": {
        "id": "XLBeGlmJUfeq"
      }
    },
    {
      "cell_type": "markdown",
      "source": [
        "\n",
        "```markdown\n",
        "## 🏗️ Template Inheritance\n",
        "\n",
        "To avoid repeating HTML structure across pages, Flask supports **template inheritance** using `base.html`.\n",
        "\n",
        "### Step 1: Create `base.html`\n",
        "```html\n",
        "<!DOCTYPE html>\n",
        "<html>\n",
        "<head>\n",
        "    <title>{% block title %}Default Value{% endblock %}</title>\n",
        "</head>\n",
        "<body>\n",
        "    {% block content %}{% endblock %}\n",
        "</body>\n",
        "</html>\n"
      ],
      "metadata": {
        "id": "MZRDGXr3Ui8S"
      }
    },
    {
      "cell_type": "markdown",
      "source": [
        "{% extends \"base.html\" %}\n",
        "\n",
        "{% block title %}Index Page{% endblock %}\n",
        "\n",
        "{% block content %}\n",
        "    <ul>\n",
        "        {% for item in list %}\n",
        "            {% if item == 40 %}\n",
        "                <li style=\"color: red\">{{ item }}</li>\n",
        "            {% endif %}\n",
        "            <li>{{ item }}</li>\n",
        "        {% endfor %}\n",
        "    </ul>\n",
        "{% endblock %}\n"
      ],
      "metadata": {
        "id": "PGxjl_qdU_Vh"
      }
    },
    {
      "cell_type": "code",
      "source": [],
      "metadata": {
        "id": "za_aPqubUb9c"
      },
      "execution_count": null,
      "outputs": []
    }
  ]
}