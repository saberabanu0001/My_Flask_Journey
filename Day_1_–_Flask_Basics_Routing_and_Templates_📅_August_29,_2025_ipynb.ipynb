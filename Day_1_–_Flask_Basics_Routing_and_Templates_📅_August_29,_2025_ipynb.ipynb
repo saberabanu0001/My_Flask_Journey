{
  "nbformat": 4,
  "nbformat_minor": 0,
  "metadata": {
    "colab": {
      "provenance": []
    },
    "kernelspec": {
      "name": "python3",
      "display_name": "Python 3"
    },
    "language_info": {
      "name": "python"
    }
  },
  "cells": [
    {
      "cell_type": "code",
      "execution_count": null,
      "metadata": {
        "id": "QYa9XX6TtPnQ"
      },
      "outputs": [],
      "source": [
        "# 🧠 Introduction\n",
        "\n",
        "Today I explored how Flask uses **Jinja2 templates** to render HTML dynamically.\n",
        "I learned how to pass variables from Python into HTML, use loops and conditionals, apply filters, and structure pages using template inheritance.\n",
        "\n",
        "This notebook documents my learning with examples and reflections.\n",
        "\n",
        "---\n"
      ]
    },
    {
      "cell_type": "code",
      "source": [
        "## 🔁 Rendering Lists with Jinja2\n",
        "\n",
        "We can pass any Python variable—lists, dictionaries, strings—into our HTML templates using `render_template()`.\n",
        "\n",
        "### Example: Displaying a List\n",
        "```html\n",
        "<ul>\n",
        "    {% for item in list %}\n",
        "        <li>{{ item }}</li>\n",
        "    {% endfor %}\n",
        "</ul>\n"
      ],
      "metadata": {
        "id": "LyC58nOQS76D"
      },
      "execution_count": null,
      "outputs": []
    },
    {
      "cell_type": "code",
      "source": [],
      "metadata": {
        "id": "lgIri0YOThQ2"
      },
      "execution_count": null,
      "outputs": []
    }
  ]
}