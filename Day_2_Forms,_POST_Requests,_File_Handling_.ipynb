{
  "nbformat": 4,
  "nbformat_minor": 0,
  "metadata": {
    "colab": {
      "provenance": []
    },
    "kernelspec": {
      "name": "python3",
      "display_name": "Python 3"
    },
    "language_info": {
      "name": "python"
    }
  },
  "cells": [
    {
      "cell_type": "markdown",
      "source": [
        "# 🧠 Introduction\n",
        "Today I explored how Flask handles Forms, POST Requests, and File Handling to create interactive web applications. I learned how to build HTML forms, process user input securely using POST methods, and prepare for handling file uploads in a Flask route.\n",
        "\n",
        "This notebook documents my progress with code examples, explanations, and reflections on how these concepts connect to real-world web development.\n",
        "\n",
        "---"
      ],
      "metadata": {
        "id": "XJ1uVO4yqRsr"
      }
    },
    {
      "cell_type": "markdown",
      "source": [
        "## 📄 Forms\n",
        "\n",
        "Learned how to create and render HTML forms using Flask and Jinja2 templates. Built a login form with input fields for username and password, styled using a linked CSS file. Used `render_template()` to serve the form from the `templates` folder.\n",
        "\n",
        "**Key Concepts:**\n",
        "\n",
        "- HTML form structure: `<form>`, `<input>`, `<submit>`\n",
        "- Linking static files with `url_for('static', filename='...')`\n",
        "- Template rendering with Jinja2\n",
        "\n",
        "\n",
        "---"
      ],
      "metadata": {
        "id": "t8wghJJbqccJ"
      }
    },
    {
      "cell_type": "markdown",
      "source": [
        "##🔄 POST Requests\n",
        "\n",
        "Implemented logic to handle both GET and POST methods in Flask routes. Used request.form.get() to retrieve form data and validate user input.\n",
        "\n",
        "Key Concepts:\n",
        "\n",
        "- GET: Displays the form when the page is first loaded\n",
        "\n",
        "- POST: Processes form data when the user submits\n",
        "\n",
        "- Conditional logic to return success or failure messages based on input"
      ],
      "metadata": {
        "id": "9Us05ydzqzBo"
      }
    },
    {
      "cell_type": "code",
      "execution_count": null,
      "metadata": {
        "id": "9lD-D5axphd1"
      },
      "outputs": [],
      "source": [
        "#Day2.py\n",
        "from flask import Flask, request, render_template\n",
        "\n",
        "app = Flask(__name__, template_folder='templates')\n",
        "\n",
        "@app.route('/', methods=['GET', 'POST'])\n",
        "def index():\n",
        "    if request.method == 'GET':\n",
        "        return render_template('day2.html')\n",
        "    elif request.method == 'POST':\n",
        "        username = request.form.get('username')\n",
        "        password = request.form.get('password')\n",
        "\n",
        "        if username == \"Sabera Banu\" and password == \"12\":\n",
        "            return \"Success...\"\n",
        "        else:\n",
        "            return \"Failure!\"\n",
        "\n",
        "\n",
        "if __name__ == '__main__':\n",
        "    app.run(port = 5555, debug=True)"
      ]
    },
    {
      "cell_type": "code",
      "source": [
        "#day2.html\n",
        "<!DOCTYPE html>\n",
        "<html lang=\"en\">\n",
        "<head>\n",
        "    <meta charset=\"UTF-8\">\n",
        "    <meta name=\"viewport\" content=\"width=device-width, initial-scale=1.0\">\n",
        "    <title>This is day-2</title>\n",
        "    <link rel=\"stylesheet\" href=\"{{url_for('static', filename='style.css')}}\">\n",
        "</head>\n",
        "<body>\n",
        "    <h1> Hello we are here again!</h1>\n",
        "    <form method = \"POST\" action = \"{{url_for('index')}}\">\n",
        "        <input type=\"text\" name=\"username\" placeholder=\"Username\">\n",
        "        <input type=\"password\" name=\"password\" placeholder=\"Password\">\n",
        "        <input type=\"submit\" value=\"Login\">\n",
        "    </form>\n",
        "</body>\n",
        "</html>"
      ],
      "metadata": {
        "id": "mQnB9LFLB98J"
      },
      "execution_count": null,
      "outputs": []
    },
    {
      "cell_type": "markdown",
      "source": [
        "##📁 File Handling & Conversion\n",
        "Today I explored how to handle file uploads in Flask and how to convert file types using Python and Pandas. This module helped me understand how to accept files from users, inspect their content, and transform them into different formats—all within a web application.\n",
        "\n",
        "---"
      ],
      "metadata": {
        "id": "uoXkEMg1vUKD"
      }
    },
    {
      "cell_type": "markdown",
      "source": [
        "####📤 Uploading Files with Flask\n",
        "I created a simple HTML form that allows users to upload files. The form uses enctype=\"multipart/form-data\" to send file data properly, and Flask receives the file using request.files."
      ],
      "metadata": {
        "id": "xbKf8Yqgvy-9"
      }
    },
    {
      "cell_type": "code",
      "source": [
        "<h1>File Upload</h1>\n",
        "<form method=\"POST\" action=\"{{ url_for('file_upload') }}\" enctype=\"multipart/form-data\">\n",
        "  <input type=\"file\" name=\"file\" accept=\".txt, text/plain\" required>\n",
        "  <input type=\"submit\" value=\"Upload a file\">\n",
        "</form>\n"
      ],
      "metadata": {
        "id": "9W8J_NsQvcNT"
      },
      "execution_count": null,
      "outputs": []
    },
    {
      "cell_type": "markdown",
      "source": [
        "####🧠 Backend Logic in Flask\n",
        "In the Flask route, I used request.files['file'] to access the uploaded file. Depending on the file type, I either read the content directly or used Pandas to process it."
      ],
      "metadata": {
        "id": "4Fmsh4Esv-fp"
      }
    },
    {
      "cell_type": "code",
      "source": [
        "@app.route('/file_upload', methods=['POST'])\n",
        "def file_upload():\n",
        "    file = request.files['file']\n",
        "\n",
        "    if file.content_type == 'text/plain':\n",
        "        return file.read().decode()\n",
        "\n",
        "    elif file.content_type in ['application/vnd.openxmlformats-officedocument.spreadsheetml.sheet', 'application/vnd.ms-excel']:\n",
        "        df = pd.read_excel(file, engine='openpyxl')\n",
        "        return df.to_html()\n",
        "\n",
        "    else:\n",
        "        return \"Unsupported file type.\""
      ],
      "metadata": {
        "id": "-xNWKcrjwF7J"
      },
      "execution_count": null,
      "outputs": []
    },
    {
      "cell_type": "markdown",
      "source": [
        "##🔄 File Conversion\n",
        "One of the most exciting parts was learning how to convert one file type to another. For example, I used Pandas to read an Excel file and return it as a downloadable CSV."
      ],
      "metadata": {
        "id": "8bIY0MEUwIcZ"
      }
    },
    {
      "cell_type": "code",
      "source": [
        "<h1>Convert to CSV</h1>\n",
        "    <form method=\"POST\" action=\"{{url_for('convert_csv')}}\" enctype=\"multipart/form-data\">\n",
        "      <input type=\"file\" name=\"file\" accept=\".xlsx,application/vnd.openxmlformats-officedocument.spreadsheetml.sheet\" required>    <!-- what will be the content type for the different types of file, we can google it and find-->\n",
        "      <input type=\"submit\" value=\"Upload a file to convert\">\n",
        "    </form>\n"
      ],
      "metadata": {
        "id": "66_GXjuE7_NW"
      },
      "execution_count": null,
      "outputs": []
    },
    {
      "cell_type": "code",
      "source": [
        "@app.route('/convert_csv', methods=['POST'])\n",
        "def convert_csv():\n",
        "    file = request.files['file']\n",
        "\n",
        "    if file.filename.endswith('.xlsx'):\n",
        "        df = pd.read_excel(file, engine='openpyxl')\n",
        "        response = Response(\n",
        "            df.to_csv(index=False),\n",
        "            mimetype='text/csv',\n",
        "            headers={'Content-Disposition': 'attachment; filename=result.csv'}\n",
        "        )\n",
        "        return response\n",
        "    else:\n",
        "        return \"Please upload a valid .xlsx file.\"\n"
      ],
      "metadata": {
        "id": "5igKoU4OwM8V"
      },
      "execution_count": null,
      "outputs": []
    },
    {
      "cell_type": "markdown",
      "source": [
        "###Reflections\n",
        "This module taught me how to:\n",
        "\n",
        "- Accept and validate file uploads\n",
        "\n",
        "- Use pandas to inspect and transform file content\n",
        "\n",
        "- Handle different MIME types and file extensions\n",
        "\n",
        "- Convert files dynamically and return them to users\n",
        "\n",
        "I also learned how to debug common issues like missing files, incorrect MIME types, and engine errors in pandas.read_excel().\n",
        "\n",
        "---"
      ],
      "metadata": {
        "id": "iHZQWcrowXXx"
      }
    },
    {
      "cell_type": "markdown",
      "source": [
        "##🌐 JavaScript + Flask: Sending JSON Requests\n",
        "Today I also explored how to send JSON data from JavaScript to a Flask backend using the fetch() API. This technique allows dynamic interaction between the frontend and backend—perfect for building responsive web apps."
      ],
      "metadata": {
        "id": "ZvfeW3YQ6E7W"
      }
    },
    {
      "cell_type": "markdown",
      "source": [
        "####🖱️ What Happens When You Click “Send Post Request”\n",
        "When the user clicks the Send post request button, the following steps occur:\n",
        "\n",
        "---\n",
        "\n",
        "\n"
      ],
      "metadata": {
        "id": "ajWzhMyU6Q8X"
      }
    },
    {
      "cell_type": "markdown",
      "source": [
        "1. JavaScript triggers a POST request. It sends a JSON object:\n",
        "\n",
        "###json\n",
        "  { \"name\": \"Sabera\", \"greeting\": \"Hello\" }\n",
        "\n",
        "  ---\n",
        "\n",
        "\n",
        "\n",
        "2. Flask receives the request.\n",
        "The backend extracts the data using:\n",
        "\n",
        "###python\n",
        "\n",
        "greeting = request.json['greeting']\n",
        "name = request.json['name']\n",
        "\n",
        "---\n",
        "3. Flask writes to a file. It saves the greeting and name to file.txt:\n",
        "\n",
        "\n",
        "Hello, Sabera\n",
        "\n",
        "---\n",
        "\n",
        "4. Flask sends a JSON response. The browser receives:\n",
        "\n",
        "###json\n",
        "{ \"message\": \"Successfully written\" }\n",
        "\n",
        "---\n",
        "5. JavaScript logs the result The console shows:\n",
        "\n",
        "###Code\n",
        "Success: { message: \"Successfully written\" }\n",
        "\n",
        "---"
      ],
      "metadata": {
        "id": "813qp_yW61BN"
      }
    },
    {
      "cell_type": "code",
      "source": [
        "#html\n",
        "<h1>JavaScript JSON request</h1>\n",
        "<button id=\"post_button\">Send post request</button>\n",
        "\n",
        "<script type=\"text/javascript\">\n",
        "    const postButton = document.getElementById('post_button');\n",
        "    const jsonData = { name: 'Sabera', greeting: 'Hello' };\n",
        "\n",
        "    postButton.addEventListener('click', () => {\n",
        "        fetch('{{ url_for(\"handle_post\") }}', {\n",
        "            method: 'POST',\n",
        "            headers: {\n",
        "                'Content-Type': 'application/json; charset=utf-8'\n",
        "            },\n",
        "            body: JSON.stringify(jsonData)\n",
        "        })\n",
        "        .then(response => response.json())\n",
        "        .then(data => console.log('Success:', data))\n",
        "        .catch(error => console.error('Error:', error));\n",
        "    });\n",
        "</script>\n"
      ],
      "metadata": {
        "id": "qwGKzzh0wRni"
      },
      "execution_count": null,
      "outputs": []
    },
    {
      "cell_type": "code",
      "source": [
        "#python\n",
        "@app.route('/handle_post', methods=['POST'])\n",
        "def handle_post():\n",
        "    greeting = request.json['greeting']\n",
        "    name = request.json['name']\n",
        "\n",
        "    with open('file.txt', 'w') as f:\n",
        "        f.write(f'{greeting}, {name}')\n",
        "\n",
        "    return jsonify({'message': 'Successfully written'})\n"
      ],
      "metadata": {
        "id": "s7EEJ7Z673ZK"
      },
      "execution_count": null,
      "outputs": []
    },
    {
      "cell_type": "markdown",
      "source": [
        "🧠 Summary – Day 2\n",
        "Today was a deep dive into building interactive web applications with Flask. I explored how to:\n",
        "\n",
        "- ✅ Create and render HTML forms using Flask and Jinja2\n",
        "\n",
        "- ✅ Handle GET and POST requests to process user input\n",
        "\n",
        "- ✅ Validate login credentials and return dynamic responses\n",
        "\n",
        "- ✅ Upload files through a web form and inspect them using Pandas\n",
        "\n",
        "- ✅ Convert Excel files to CSV and return them as downloadable responses\n",
        "\n",
        "- ✅ Send JSON data from JavaScript to Flask using fetch()\n",
        "\n",
        "- ✅ Receive and process JSON in Flask, then write it to a file\n",
        "\n",
        "- ✅ Debug common issues like missing files, MIME type mismatches, and engine errors in pandas.read_excel()\n",
        "\n",
        "This session connected frontend and backend logic, taught me how to handle real-world data, and gave me hands-on experience with full-stack communication. I’m building tools that respond, transform, and interact—and it’s starting to feel powerful."
      ],
      "metadata": {
        "id": "kNyqVGPu8hPc"
      }
    },
    {
      "cell_type": "code",
      "source": [],
      "metadata": {
        "id": "Oq2tNDY-8sRR"
      },
      "execution_count": null,
      "outputs": []
    }
  ]
}