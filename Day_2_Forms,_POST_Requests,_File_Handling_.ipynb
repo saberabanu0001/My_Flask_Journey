{
  "nbformat": 4,
  "nbformat_minor": 0,
  "metadata": {
    "colab": {
      "provenance": []
    },
    "kernelspec": {
      "name": "python3",
      "display_name": "Python 3"
    },
    "language_info": {
      "name": "python"
    }
  },
  "cells": [
    {
      "cell_type": "markdown",
      "source": [
        "🧠 Introduction\n",
        "Today I explored how Flask handles Forms, POST Requests, and File Handling to create interactive web applications. I learned how to build HTML forms, process user input securely using POST methods, and prepare for handling file uploads in a Flask route.\n",
        "\n",
        "This notebook documents my progress with code examples, explanations, and reflections on how these concepts connect to real-world web development."
      ],
      "metadata": {
        "id": "XJ1uVO4yqRsr"
      }
    },
    {
      "cell_type": "markdown",
      "source": [
        "📄 Forms\n",
        "Learned how to create and render HTML forms using Flask and Jinja2 templates. Built a login form with input fields for username and password, styled using a linked CSS file. Used render_template() to serve the form from the templates folder.\n",
        "\n",
        "Key Concepts:\n",
        "\n",
        "HTML form structure (<form>, <input>, <submit>)\n",
        "\n",
        "Linking static files with url_for('static', filename='...')\n",
        "\n",
        "Template rendering with Jinja2"
      ],
      "metadata": {
        "id": "t8wghJJbqccJ"
      }
    },
    {
      "cell_type": "markdown",
      "source": [
        "Implemented logic to handle both GET and POST methods in Flask routes. Used request.form.get() to retrieve form data and validate user input.\n",
        "\n",
        "Key Concepts:\n",
        "\n",
        "GET: Displays the form when the page is first loaded\n",
        "\n",
        "POST: Processes form data when the user submits\n",
        "\n",
        "Conditional logic to return success or failure messages based on input"
      ],
      "metadata": {
        "id": "9Us05ydzqzBo"
      }
    },
    {
      "cell_type": "code",
      "execution_count": null,
      "metadata": {
        "id": "9lD-D5axphd1"
      },
      "outputs": [],
      "source": []
    }
  ]
}